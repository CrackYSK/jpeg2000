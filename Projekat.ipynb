{
 "cells": [
  {
   "cell_type": "markdown",
   "metadata": {},
   "source": [
    "# JPEG 2000"
   ]
  },
  {
   "cell_type": "markdown",
   "metadata": {},
   "source": [
    "## Uvod"
   ]
  },
  {
   "cell_type": "markdown",
   "metadata": {},
   "source": [
    "JPEG 2000 je standard za kompresiju slika uveden od strane <b>Joint Photographic Experts Group</b> 2000. godine, kao naslednik njihovog originalnog standarda iz 1992. godine. Glavni napredak u odnosu na prvi standard je upotreba transformacije sa talasićima, koji su u tom periodu počeli da pokazuju izvanredne rezultate u ovoj oblasti. Tek u poslednjih nekoliko meseci su se pojavili uređaji koji enkoduju svoje slike u JPEG 2000 formatu, ali i dalje ih mali broj aplikacija podržava."
   ]
  },
  {
   "cell_type": "markdown",
   "metadata": {},
   "source": [
    "U okviru ovog rada obrađene su sledeće faze kompresije:\n",
    "* <b>Tiling</b> - Podela slike na manje podceline, kako bi se omogućilo paralelno obrađivanje\n",
    "* <b>Color Transformation</b> - Konverzija iz RGB u YCbCr komponente, radi bolje performanse konverzije\n",
    "* <b>Wavelet Transformation</b> - Izvlačenje koeficijenata pomoću transformacije talasićima\n",
    "* <b>Quantization</b> - Uklanjanje koeficijenata koji imaju slab udeo"
   ]
  },
  {
   "cell_type": "code",
   "execution_count": 1,
   "metadata": {},
   "outputs": [],
   "source": [
    "import os\n",
    "import sys\n",
    "import threading\n",
    "import numpy as np\n",
    "\n",
    "import queue\n",
    "import pywt\n",
    "import image_slicer\n",
    "# pip install image_slicer\n",
    "from PIL import Image"
   ]
  },
  {
   "cell_type": "markdown",
   "metadata": {},
   "source": [
    "## Tiling"
   ]
  },
  {
   "cell_type": "markdown",
   "metadata": {},
   "source": [
    "Primenom ovog koraka pretprocesiranja dobijamo niz slika manje dimenzije (eng. <i>tiles</i>), na koje se primenjuju dalje operacije.\n",
    "Proces podele slike nije neophodan (slika može ostati celovita), ali se ovim postupkom štedi na memoriji. Takođe, pruža mogućnost paralelizacije posla. Mana ovog koraka je gubitak kvaliteta, tako što se gomila šum u podslikama sa nižim koeficijentima, koji se kasnije može odraziti na celu sliku, te se sa povećanjem broja podslika smanjuje kvalitet.\n",
    "\n",
    "Za implementaciju, koristili smo biblioteku <i>image_slicer</i> koja nam, pomoću svojih metoda <i>slice</i> i <i>join</i>, pruža sve potrebne funkcionalnosti. Za razliku od originalne implementacije, koja podrazumeva da koristimo slike određene veličine, ovde navodimo broj podslika, koje su sve iste dimenzije."
   ]
  },
  {
   "cell_type": "code",
   "execution_count": 2,
   "metadata": {},
   "outputs": [],
   "source": [
    "\"\"\"\n",
    "Funkcija koja deli sliku.\n",
    "\n",
    "Parametri:\n",
    "filename - ime fajla\n",
    "numberOfTiles - broj podslika\n",
    "\n",
    "Povratna vrednost:\n",
    "tuple podslika\n",
    "\"\"\"\n",
    "def tileImage(filename, numberOfTiles=2):\n",
    "    return image_slicer.slice(filename, numberOfTiles, save=False)"
   ]
  },
  {
   "cell_type": "code",
   "execution_count": 3,
   "metadata": {},
   "outputs": [],
   "source": [
    "\"\"\"\n",
    "Funkcija koja spaja delove u jednu sliku\n",
    "\n",
    "Parametri:\n",
    "tiles - tuple podslika\n",
    "\n",
    "Povratna vrednost:\n",
    "objedinjena slika\n",
    "\"\"\"\n",
    "def joinTiles(tiles):\n",
    "    return image_slicer.join(tiles)"
   ]
  },
  {
   "cell_type": "markdown",
   "metadata": {},
   "source": [
    "## Color encoding"
   ]
  },
  {
   "cell_type": "markdown",
   "metadata": {},
   "source": [
    "Korak enkodovanja boja, odnosno prebacivanja komponenti iz RGB u YCbCr, se primenjuje jer jer ustanovljeno da se primenom ovakvog koraka poboljšava stepen kompresije. Takođe, ni ovaj postupak nije obavezan.\n",
    "* Y komponenta predstavlja nivo osvetljenosti\n",
    "* Cb plava komponenta u odnosu na zelenu komponentu\n",
    "* Cr crvena komponenta u odnosu na zelenu komponentu\n",
    "\n",
    "Komponente Cb i Cr su manje primetne ljudskom oku, te su pogodnije za manipulaciju.\n",
    "\n",
    "Za implementaciju su iskorišćene modifikovane matrice prelaska JPEG konverzije."
   ]
  },
  {
   "cell_type": "code",
   "execution_count": 4,
   "metadata": {},
   "outputs": [],
   "source": [
    "\"\"\"\n",
    "Kodiranje boja iz RGB u YCbCr\n",
    "\n",
    "Parametri:\n",
    "img - polazna slika\n",
    "\n",
    "Povratna vrednost:\n",
    "slika sa YCbCr komponentama\n",
    "\"\"\"\n",
    "def colorEncode(img):\n",
    "    imgEncoded = img.convert('RGB')\n",
    "    \n",
    "    (width, height) = imgEncoded.size\n",
    "    M = np.array([[0.299, 0.587, 0.114],\n",
    "                  [-0.168935, -0.331665, 0.50059],\n",
    "                  [0.499813, -0.4187, -0.081282]])\n",
    "    for x in range(width):\n",
    "        for y in range(height):\n",
    "            R, G, B = imgEncoded.getpixel((x, y))\n",
    "            result = M.dot(np.array([R, G, B]).T) + np.array([0, 128, 128])\n",
    "            \n",
    "            result[0] = 0 if (result[0] <= 0) else result[0]\n",
    "            result[0] = 255 if (result[0] >= 255) else result[0]\n",
    "            result[1] = 0 if (result[1] <= 0) else result[1]\n",
    "            result[1] = 255 if (result[1] >= 255) else result[1]\n",
    "            result[2] = 0 if (result[2] <= 0) else result[2]\n",
    "            result[2] = 255 if (result[2] >= 255) else result[2]\n",
    "            \n",
    "            \n",
    "            imgEncoded.putpixel((x, y), (int(result[0]), int(result[1]), int(result[2])))\n",
    "            \n",
    "    return imgEncoded"
   ]
  },
  {
   "cell_type": "code",
   "execution_count": 5,
   "metadata": {},
   "outputs": [],
   "source": [
    "\"\"\"\n",
    "Dekodiranje boja iz YCbCr u RGB\n",
    "\n",
    "Parametri:\n",
    "img - slika sa YCbCr\n",
    "\n",
    "Povratna vrednost:\n",
    "slika sa RGB komponentama\n",
    "\"\"\"\n",
    "def colorDecode(img):\n",
    "    imgDecoded = img\n",
    "    \n",
    "    (width, height) = imgDecoded.size    \n",
    "    M = np.array([[1.0, 0, 1.402],\n",
    "                  [1.0, -0.34414, -0.71414],\n",
    "                  [1.0, 1.772, 0]\n",
    "                 ])\n",
    "    for x in range(width):\n",
    "        for y in range(height):\n",
    "            Y, Cb, Cr = imgDecoded.getpixel((x, y))\n",
    "            result = M.dot(np.array([Y, Cb-128, Cr-128]).T)\n",
    "            \n",
    "            result[0] = 0 if (result[0] <= 0) else result[0]\n",
    "            result[0] = 255 if (result[0] >= 255) else result[0]\n",
    "            result[1] = 0 if (result[1] <= 0) else result[1]\n",
    "            result[1] = 255 if (result[1] >= 255) else result[1]\n",
    "            result[2] = 0 if (result[2] <= 0) else result[2]\n",
    "            result[2] = 255 if (result[2] >= 255) else result[2]\n",
    "            \n",
    "            imgDecoded.putpixel((x, y), (int(result[0]), int(result[1]), int(result[2])))\n",
    "    return imgDecoded"
   ]
  },
  {
   "cell_type": "markdown",
   "metadata": {},
   "source": [
    "## Wavelet transformation"
   ]
  },
  {
   "cell_type": "markdown",
   "metadata": {},
   "source": [
    "Primenom metode transformacije talasićima dobijamo matricu koeficijenata. U različitim delovima matrice se nalaze različiti tipovi koeficijenata. U gornjoj levoj četvrtini matrice se nalazi aproksimacija slike, u gornjoj desnoj vertikalne komponente, u donjoj levoj horizontalne, dok se u donjoj desnoj nalaze dijagonalne komponente.\n",
    "\n",
    "Za implementaciju se koriste dva tipa talasića, CDF 5/3 i 9/7. Oba su iz familije biortogonalnih talasića. CDF 5/3 koristi celobrojne koeficijente, zbog čega u slučaju njihove primene korak kvantizacije nije neophodan. Sa druge strane CDF 9/7 se često karakteriše kao nepovratni, jer ubacuje u signal određenu dozu šuma.\n",
    "\n",
    "U konkretnoj implementaciji smo koristili biblioteku pywt, koja sadrži metode za rad za transformacijama pomoću talasića. Kako u skupu dostupnih talasića nisu ponuđeni CDF 5/3 i CDF 9/7, primenili smo bior2.2 talasić, koji je iz iste familije i izgledom je najsličniji talasiću CDF 5/3."
   ]
  },
  {
   "cell_type": "code",
   "execution_count": 6,
   "metadata": {},
   "outputs": [],
   "source": [
    "\"\"\"\n",
    "Primena wavelet (talasica) transformacije na sliku\n",
    "\n",
    "Parametri:\n",
    "img - ulazna slika\n",
    "level - nivo transformacije\n",
    "\n",
    "Povratna vrednost:\n",
    "tuple koeficijenata\n",
    "\"\"\"\n",
    "def waveTransform(img, level=3):\n",
    "    (width, height) = img.size\n",
    "    img = img.copy()\n",
    "    \n",
    "    comps1 = np.empty((width, height))\n",
    "    comps2 = np.empty((width, height))\n",
    "    comps3 = np.empty((width, height))\n",
    "    \n",
    "    for x in range(width):\n",
    "        for y in range(height):\n",
    "            comp1, comp2, comp3 = img.getpixel((x, y))\n",
    "            comps1[x, y] = comp1\n",
    "            comps2[x, y] = comp2\n",
    "            comps3[x, y] = comp3\n",
    "\n",
    "    # Koristimo bior2.2 posto je najslicniji cfd transformaciji\n",
    "    coefs1 = pywt.wavedec2(comps1, 'bior2.2', level=level)\n",
    "    coefs2 = pywt.wavedec2(comps2, 'bior2.2', level=level)\n",
    "    coefs3 = pywt.wavedec2(comps3, 'bior2.2', level=level)\n",
    "    \n",
    "    return (coefs1, coefs2, coefs3)"
   ]
  },
  {
   "cell_type": "code",
   "execution_count": 7,
   "metadata": {},
   "outputs": [],
   "source": [
    "\"\"\"\n",
    "Primena inverzne wavelet transformacije na koeficijente\n",
    "\n",
    "Parametri:\n",
    "coefs - tuple wavelet koeficijenata\n",
    "\n",
    "Povratna vrednost:\n",
    "originalna slika\n",
    "\"\"\"\n",
    "def iwaveTransform(coefs):\n",
    "    (coefs1, coefs2, coefs3) = coefs\n",
    "    comps1 = pywt.waverec2(coefs1, 'bior2.2')\n",
    "    comps2 = pywt.waverec2(coefs2, 'bior2.2')\n",
    "    comps3 = pywt.waverec2(coefs3, 'bior2.2')\n",
    "    width, height = comps1.shape\n",
    "    img = Image.new('RGB', (width, height))\n",
    "    for x in range(width):\n",
    "        for y in range(height):\n",
    "            img.putpixel((x, y), (int(comps1[x, y]), int(comps2[x, y]), int(comps3[x, y])))\n",
    "    return img"
   ]
  },
  {
   "cell_type": "code",
   "execution_count": 8,
   "metadata": {},
   "outputs": [],
   "source": [
    "\"\"\"\n",
    "Vizuelizacija koeficijenata wavelet transformacije\n",
    "\n",
    "Parametri:\n",
    "coefs - tuple wavelet koeficijenata\n",
    "\n",
    "Povratna vrednost:\n",
    "slika komponenti wavelet transformacija\n",
    "\"\"\"\n",
    "def imageFromCoefs(coefs):\n",
    "    (coefs1, coefs2, coefs3) = coefs\n",
    "    (width, height) = coefs1[0].shape\n",
    "    cA1 = np.array(coefs1[0])\n",
    "    \n",
    "    cA2 = np.array(coefs2[0])\n",
    "    \n",
    "    cA3 = np.array(coefs3[0])\n",
    "    img_size = (width*2**(np.array(coefs1).size - 1),\\\n",
    "                height*2**(np.array(coefs1).size - 1))\n",
    "    img = Image.new('RGB', img_size)\n",
    "    \n",
    "    for x in range(width):\n",
    "        for y in range(height):\n",
    "            img.putpixel((x, y), (int(cA1[x, y]), int(cA2[x, y]), int(cA3[x, y])))\n",
    "    \n",
    "    for i in range(1, np.array(coefs1).size):\n",
    "        \n",
    "        cH1i = (coefs1[i])[0]\n",
    "        cV1i = (coefs1[i])[1]\n",
    "        cD1i = (coefs1[i])[2]\n",
    "        \n",
    "        cH2i = (coefs2[i])[0]\n",
    "        cV2i = (coefs2[i])[1]\n",
    "        cD2i = (coefs2[i])[2]\n",
    "        \n",
    "        cH3i = (coefs3[i])[0]\n",
    "        cV3i = (coefs3[i])[1]\n",
    "        cD3i = (coefs3[i])[2]\n",
    "        \n",
    "        for x in range(cH1i.shape[0]):\n",
    "            for y in range(cH1i.shape[1]):\n",
    "                img.putpixel((width+x, y), (int(cH1i[x, y]), int(cH2i[x, y]), int(cH3i[x, y])))\n",
    "        \n",
    "        for x in range(cH1i.shape[0]):\n",
    "            for y in range(cH1i.shape[1]):\n",
    "                img.putpixel((x, height+y), (int(cV1i[x, y]), int(cV2i[x, y]), int(cV3i[x, y])))\n",
    "                \n",
    "        for x in range(cH1i.shape[0]):\n",
    "            for y in range(cH1i.shape[1]):\n",
    "                img.putpixel((width+x, height+y), (int(cD1i[x, y]), int(cD2i[x, y]), int(cD3i[x, y])))\n",
    "                \n",
    "        width += cH1i.shape[0]\n",
    "        height += cH1i.shape[1]\n",
    "    return img"
   ]
  },
  {
   "cell_type": "markdown",
   "metadata": {},
   "source": [
    "## Quantization"
   ]
  },
  {
   "cell_type": "markdown",
   "metadata": {},
   "source": [
    "U ovom koraku je cilj otkloniti koeficijente koji imaju relativno mali uticaj na sliku, po cenu kvaliteta. Ovaj korak zapravo predstavlja kompresiju. Kvantizacija se može vršiti na osnovu kvantizacionog intenziteta ili na osnovu predefinisane matrice, čija se veličina određuje veličinom podslika. Korisno je napomenuti da se različit intenzitet kvantizacije može primeniti na različite podslike. Izbor intenziteta kvantizacije(u intervalu $(0, 1]$) utiče na očuvanje kvaliteta slike.\n",
    "\n",
    "Kvantizacija se vrši na dva nivoa:\n",
    "* Deljenje koeficijenata \n",
    "* Zaokruživanje koeficijenata na celobrojne vrednosti\n",
    "\n",
    "Koeficijenti koji su manji od intenziteta kvantizacije postaju 0 i na taj način se gubi njihova informacija. Što je intenzitet veći, to je veći broj 0 u matrici, te je i veći stepen kompresije, ali i veći gubitak kvaliteta."
   ]
  },
  {
   "cell_type": "code",
   "execution_count": 9,
   "metadata": {},
   "outputs": [],
   "source": [
    "\"\"\"\n",
    "Pomocna funkcija za kvantizaciju jednog nivoa\n",
    "\n",
    "Parametri:\n",
    "coefs - tuple wavelet koeficijenata\n",
    "delta_b - intenzitet kvantizacije\n",
    "\n",
    "Povratna vrednost:\n",
    "tuple kvantizovanih koeficijenata\n",
    "\"\"\"\n",
    "def quantizeCoefs(coefs, delta_b):\n",
    "    coefsH = coefs[0]\n",
    "    coefsV = coefs[1]\n",
    "    coefsD = coefs[2]\n",
    "    \n",
    "    for x in range(coefsH.shape[0]):\n",
    "        for y in range(coefsH.shape[1]):\n",
    "            coefsH[x, y] = np.sign(coefsH[x,  y])* int(np.abs(coefsH[x, y]) / delta_b)\n",
    "            coefsV[x, y] = np.sign(coefsV[x,  y])* int(np.abs(coefsV[x, y]) / delta_b)\n",
    "            coefsD[x, y] = np.sign(coefsD[x,  y])* int(np.abs(coefsD[x, y]) / delta_b)\n",
    "    \n",
    "    return (coefsH, coefsV, coefsD)\n",
    "    "
   ]
  },
  {
   "cell_type": "code",
   "execution_count": 10,
   "metadata": {},
   "outputs": [],
   "source": [
    "\"\"\"\n",
    "Primena kvantizacije\n",
    "\n",
    "Parametri:\n",
    "coefs - tuple wavelet koeficijenata\n",
    "delta_b - intenzitet kvantizacije (0,1]\n",
    "inverse - da li je inverzna kvantizacija\n",
    "\n",
    "Povratna vrednost:\n",
    "tuple kvantizovanih koeficijenata\n",
    "\"\"\"\n",
    "def quantization(coefs, delta_b=1, inverse=False):\n",
    "    if delta_b <= 0 or delta_b > 1:\n",
    "        sys.exit(\"Neispravan intenzitet konverzije.\")\n",
    "    \n",
    "    if not inverse:\n",
    "        delta_b = 1/delta_b\n",
    "        \n",
    "    coefs1 = coefs[0]\n",
    "    coefs2 = coefs[1]\n",
    "    coefs3 = coefs[2]\n",
    "    \n",
    "    cA1 = np.array(coefs1[0])\n",
    "    \n",
    "    cA2 = np.array(coefs2[0])\n",
    "    \n",
    "    cA3 = np.array(coefs3[0])\n",
    "    \n",
    "    for x in range(cA1.shape[0]):\n",
    "        for y in range(cA1.shape[1]):\n",
    "            cA1[x, y] = np.sign(cA1[x, y]) * int(np.abs(cA1[x, y])/delta_b)\n",
    "            cA2[x, y] = np.sign(cA2[x, y]) * int(np.abs(cA2[x, y])/delta_b)\n",
    "            cA3[x, y] = np.sign(cA3[x, y]) * int(np.abs(cA3[x, y])/delta_b)\n",
    "    \n",
    "    coefs1[0] = cA1\n",
    "    coefs2[0] = cA2\n",
    "    coefs3[0] = cA3\n",
    "    \n",
    "    for i in range(1, np.array(coefs1).size):\n",
    "        coefs1[i] = quantizeCoefs(coefs1[i], delta_b)\n",
    "        \n",
    "        coefs2[i] = quantizeCoefs(coefs2[i], delta_b)\n",
    "        \n",
    "        coefs3[i] = quantizeCoefs(coefs3[i], delta_b)\n",
    "\n",
    "    return (coefs1, coefs2, coefs3)"
   ]
  },
  {
   "cell_type": "markdown",
   "metadata": {},
   "source": [
    "## Testing"
   ]
  },
  {
   "cell_type": "code",
   "execution_count": 11,
   "metadata": {},
   "outputs": [],
   "source": [
    "\"\"\"\n",
    "Poziv vizualizacije\n",
    "\"\"\"\n",
    "def visualizeWavelet(filename, level=3):\n",
    "    img = Image.open(filename)\n",
    "    imageFromCoefs(waveTransform(img, level)).show()    "
   ]
  },
  {
   "cell_type": "code",
   "execution_count": 12,
   "metadata": {},
   "outputs": [],
   "source": [
    "\"\"\"\n",
    "Posao jedne niti\n",
    "\"\"\"\n",
    "def processTile(tile, level, quant, my_queue):\n",
    "    tile.image = quantization(waveTransform(colorEncode(tile.image), level), quant)\n",
    "    tile.image = colorDecode(iwaveTransform(quantization(tile.image, quant, inverse=True)))\n",
    "\n",
    "    my_queue.put((tile,))\n"
   ]
  },
  {
   "cell_type": "code",
   "execution_count": 13,
   "metadata": {},
   "outputs": [],
   "source": [
    "\"\"\"\n",
    "Konvertera\n",
    "\"\"\"\n",
    "def runJ2KConverter(filename, numberOfTiles=2, level=3, quant=1, save=False):\n",
    "    tiles = tileImage(filename, numberOfTiles)\n",
    "\n",
    "    jobs = []\n",
    "    my_queue = queue.Queue()\n",
    "\n",
    "    for i in range(len(tiles)):\n",
    "        job = threading.Thread(target=processTile, args=[tiles[i], level, quant, my_queue])\n",
    "        jobs.append(job)\n",
    "        \n",
    "    for i in range(len(tiles)):\n",
    "        jobs[i].start()\n",
    "\n",
    "    for i in range(len(tiles)):\n",
    "        jobs[i].join()\n",
    "\n",
    "    tiles = ()\n",
    "    while not my_queue.empty():\n",
    "        tiles = tiles + my_queue.get()\n",
    "\n",
    "    \n",
    "    img = joinTiles(tiles)\n",
    "    \n",
    "    img.show();\n",
    "    \n",
    "    if save:\n",
    "        img.save('converted_image.jpg')"
   ]
  },
  {
   "cell_type": "code",
   "execution_count": 14,
   "metadata": {},
   "outputs": [],
   "source": [
    "runJ2KConverter('lena.png', numberOfTiles=8, quant=1, save=True)"
   ]
  },
  {
   "cell_type": "code",
   "execution_count": 15,
   "metadata": {},
   "outputs": [],
   "source": [
    "visualizeWavelet('marko_u_svemiru.jpg', level=1)"
   ]
  },
  {
   "cell_type": "markdown",
   "metadata": {},
   "source": [
    "## Literatura"
   ]
  },
  {
   "cell_type": "markdown",
   "metadata": {},
   "source": [
    "* https://www.spiedigitallibrary.org/journals/optical-engineering/volume-53/issue-12/123102/JPEG-2000-based-compression-of-fringe-patterns-for-digital-holographic/10.1117/1.OE.53.12.123102.full?SSO=1\n",
    "* http://cs.haifa.ac.il/~nimrod/Compression/Wavelets/w6jpeg2k-1.pdf\n",
    "* http://citeseerx.ist.psu.edu/viewdoc/download?doi=10.1.1.591.4975&rep=rep1&type=pdf\n",
    "* https://www.mathworks.com/help/wavelet/gs/introduction-to-the-wavelet-families.html\n",
    "* https://en.wikipedia.org/wiki/JPEG_2000"
   ]
  }
 ],
 "metadata": {
  "kernelspec": {
   "display_name": "Python 3",
   "language": "python",
   "name": "python3"
  },
  "language_info": {
   "codemirror_mode": {
    "name": "ipython",
    "version": 3
   },
   "file_extension": ".py",
   "mimetype": "text/x-python",
   "name": "python",
   "nbconvert_exporter": "python",
   "pygments_lexer": "ipython3",
   "version": "3.6.4"
  }
 },
 "nbformat": 4,
 "nbformat_minor": 2
}
